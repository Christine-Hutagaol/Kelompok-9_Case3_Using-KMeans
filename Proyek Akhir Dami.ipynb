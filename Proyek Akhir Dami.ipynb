{
 "cells": [
  {
   "cell_type": "code",
   "execution_count": 5,
   "id": "46266855",
   "metadata": {},
   "outputs": [
    {
     "data": {
      "text/html": [
       "<div>\n",
       "<style scoped>\n",
       "    .dataframe tbody tr th:only-of-type {\n",
       "        vertical-align: middle;\n",
       "    }\n",
       "\n",
       "    .dataframe tbody tr th {\n",
       "        vertical-align: top;\n",
       "    }\n",
       "\n",
       "    .dataframe thead th {\n",
       "        text-align: right;\n",
       "    }\n",
       "</style>\n",
       "<table border=\"1\" class=\"dataframe\">\n",
       "  <thead>\n",
       "    <tr style=\"text-align: right;\">\n",
       "      <th></th>\n",
       "      <th>FKL15</th>\n",
       "      <th>ICD10_Code</th>\n",
       "      <th>ICD10_Text</th>\n",
       "    </tr>\n",
       "  </thead>\n",
       "  <tbody>\n",
       "    <tr>\n",
       "      <th>0</th>\n",
       "      <td>1</td>\n",
       "      <td>A00</td>\n",
       "      <td>A00 Cholera</td>\n",
       "    </tr>\n",
       "    <tr>\n",
       "      <th>1</th>\n",
       "      <td>2</td>\n",
       "      <td>A01</td>\n",
       "      <td>A01 Typhoid and paratyphoid fevers</td>\n",
       "    </tr>\n",
       "    <tr>\n",
       "      <th>2</th>\n",
       "      <td>3</td>\n",
       "      <td>A02</td>\n",
       "      <td>A02 Other salmonella infections</td>\n",
       "    </tr>\n",
       "    <tr>\n",
       "      <th>3</th>\n",
       "      <td>4</td>\n",
       "      <td>A03</td>\n",
       "      <td>A03 Shigellosis</td>\n",
       "    </tr>\n",
       "    <tr>\n",
       "      <th>4</th>\n",
       "      <td>5</td>\n",
       "      <td>A04</td>\n",
       "      <td>A04 Other bacterial intestinal infections</td>\n",
       "    </tr>\n",
       "  </tbody>\n",
       "</table>\n",
       "</div>"
      ],
      "text/plain": [
       "   FKL15 ICD10_Code                                 ICD10_Text\n",
       "0      1        A00                                A00 Cholera\n",
       "1      2        A01         A01 Typhoid and paratyphoid fevers\n",
       "2      3        A02            A02 Other salmonella infections\n",
       "3      4        A03                            A03 Shigellosis\n",
       "4      5        A04  A04 Other bacterial intestinal infections"
      ]
     },
     "execution_count": 5,
     "metadata": {},
     "output_type": "execute_result"
    }
   ],
   "source": [
    "#import libraries\n",
    "#importing required libraries\n",
    "import pandas as pd\n",
    "import numpy as np\n",
    "import matplotlib.pyplot as plt\n",
    "%matplotlib inline\n",
    "from sklearn.cluster import KMeans\n",
    "\n",
    "# Load the data\n",
    "data = pd.read_excel(\"2021 Kode ICD10 untuk diagnosis FKRTL.xlsx\")\n",
    "data.head()"
   ]
  },
  {
   "cell_type": "code",
   "execution_count": 6,
   "id": "1887c986",
   "metadata": {},
   "outputs": [
    {
     "data": {
      "text/plain": [
       "<bound method NDFrame.describe of       FKL15 ICD10_Code\n",
       "0         1        A00\n",
       "1         2        A01\n",
       "2         3        A02\n",
       "3         4        A03\n",
       "4         5        A04\n",
       "...     ...        ...\n",
       "1862   2174        Y74\n",
       "1863   2175        P60\n",
       "1864   2176        W35\n",
       "1865   2177        W76\n",
       "1866    999        999\n",
       "\n",
       "[1867 rows x 2 columns]>"
      ]
     },
     "execution_count": 6,
     "metadata": {},
     "output_type": "execute_result"
    }
   ],
   "source": [
    "sltd_data = data[[\"FKL15\", \"ICD10_Code\"]]\n",
    "\n",
    "# statistics of the data\n",
    "sltd_data.describe"
   ]
  },
  {
   "cell_type": "code",
   "execution_count": 8,
   "id": "819b4bca",
   "metadata": {},
   "outputs": [
    {
     "data": {
      "image/png": "[encoded data removed]",
      "text/plain": [
       "<Figure size 864x432 with 1 Axes>"
      ]
     },
     "metadata": {
      "needs_background": "light"
     },
     "output_type": "display_data"
    }
   ],
   "source": [
    "X = data[[\"ICD10_Code\", \"FKL15\"]]\n",
    "\n",
    "#Visualise data points\n",
    "plt.figure(figsize=(12,6))\n",
    "plt.scatter(X[\"ICD10_Code\"], X[\"FKL15\"])\n",
    "plt.xlabel ('ICD10_Code')\n",
    "plt.ylabel('FKL15(In Thousands)')\n",
    "plt.show()"
   ]
  },
  {
   "cell_type": "markdown",
   "id": "80a7f36a",
   "metadata": {},
   "source": [
    "# Yok bisa Yok...."
   ]
  },
  {
   "cell_type": "markdown",
   "id": "dd951bde",
   "metadata": {},
   "source": [
    "## Prapemrosesan:\n",
    "- Periksa adanya nilai yang hilang dan tangani dengan sesuai.\n",
    "- Buat library untuk memetakan kode ICD-10 ke nilai numerik untuk memudahkan pengelompokan."
   ]
  },
  {
   "cell_type": "code",
   "execution_count": 29,
   "id": "f0d3da2b",
   "metadata": {},
   "outputs": [
    {
     "name": "stdout",
     "output_type": "stream",
     "text": [
      "FKL15         0\n",
      "ICD10_Code    0\n",
      "ICD10_Text    1\n",
      "dtype: int64\n"
     ]
    }
   ],
   "source": [
    "# Check for missing values\n",
    "print(data.isnull().sum())\n",
    "\n",
    "# Handle missing values (replace NaN with -1)\n",
    "data.fillna(-1, inplace=True)\n",
    "\n",
    "# Create a dictionary to map ICD-10 codes to numerical values\n",
    "icd10_map = {}\n",
    "for i, row in data.iterrows():\n",
    "    code = row[\"ICD10_Code\"]\n",
    "    if code not in icd10_map.keys():\n",
    "        icd10_map[code] = len(icd10_map)\n",
    "    data.loc[i, \"ICD10_Code\"] = icd10_map[code]\n"
   ]
  },
  {
   "cell_type": "markdown",
   "id": "b89d4a3f",
   "metadata": {},
   "source": [
    "## Pilih jumlah klaster (k):\n",
    "- Ini adalah langkah penting dan membutuhkan pengetahuan domain dan eksplorasi data.\n",
    "- Di sini, kita akan menggunakan metode Elbow untuk menentukan jumlah klaster optimal."
   ]
  },
  {
   "cell_type": "code",
   "execution_count": 30,
   "id": "f2ab7011",
   "metadata": {},
   "outputs": [
    {
     "data": {
      "image/png": "[encoded data removed]",
      "text/plain": [
       "<Figure size 432x288 with 1 Axes>"
      ]
     },
     "metadata": {
      "needs_background": "light"
     },
     "output_type": "display_data"
    }
   ],
   "source": [
    "from sklearn.metrics import silhouette_score\n",
    "\n",
    "# Calculate silhouette scores for a range of k values\n",
    "k_range = range(2, 11)\n",
    "silhouette_scores = []\n",
    "for k in k_range:\n",
    "    kmeans = KMeans(n_clusters=k)\n",
    "    kmeans.fit(data[[\"ICD10_Code\"]])\n",
    "    clusters = kmeans.labels_\n",
    "    silhouette_scores.append(silhouette_score(data[[\"ICD10_Code\"]], clusters))\n",
    "\n",
    "# Plot the elbow curve\n",
    "import matplotlib.pyplot as plt\n",
    "\n",
    "plt.plot(k_range, silhouette_scores)\n",
    "plt.xlabel(\"Number of Clusters (k)\")\n",
    "plt.ylabel(\"Silhouette Score\")\n",
    "plt.title(\"Elbow Curve for K-Means Clustering\")\n",
    "plt.show()\n"
   ]
  },
  {
   "cell_type": "markdown",
   "id": "67389f34",
   "metadata": {},
   "source": [
    "## Lakukan K-Means clustering:\n",
    "- Berdasarkan elbow curve, pilih jumlah klaster optimal (k).\n",
    "- Pasang model KMeans dan dapatkan label klaster untuk setiap pasien."
   ]
  },
  {
   "cell_type": "code",
   "execution_count": 31,
   "id": "0328085a",
   "metadata": {},
   "outputs": [],
   "source": [
    "# Choose the optimal number of clusters (k)\n",
    "k = 5\n",
    "\n",
    "# Perform K-Means clustering\n",
    "kmeans = KMeans(n_clusters=k)\n",
    "kmeans.fit(data[[\"ICD10_Code\"]])\n",
    "clusters = kmeans.labels_\n",
    "\n",
    "# Add cluster labels to the data\n",
    "data[\"Cluster\"] = clusters\n"
   ]
  },
  {
   "cell_type": "markdown",
   "id": "fffddb35",
   "metadata": {},
   "source": [
    "## Analisis klaster\n",
    "- Analisis karakteristik masing-masing klaster dengan mengidentifikasi kode ICD-10 dan kategori penyakit yang paling umum.\n",
    "- Interpretasikan makna masing-masing klaster dan identifikasi pola penyakit potensial."
   ]
  },
  {
   "cell_type": "code",
   "execution_count": 33,
   "id": "e8a0848d",
   "metadata": {},
   "outputs": [
    {
     "name": "stdout",
     "output_type": "stream",
     "text": [
      "Klaster 1 kode ICD-10 yang paling umum: [0, 289, 263, 262, 261, 260, 259, 258, 257, 256]\n",
      "Klaster 2 kode ICD-10 yang paling umum: [1138, 1389, 1387, 1386, 1385, 1384, 1383, 1382, 1381, 1380]\n",
      "Klaster 3 kode ICD-10 yang paling umum: [386, 636, 645, 644, 643, 642, 641, 640, 639, 638]\n",
      "Klaster 4 kode ICD-10 yang paling umum: [766, 1011, 1020, 1019, 1018, 1017, 1016, 1015, 1014, 1013]\n",
      "Klaster 5 kode ICD-10 yang paling umum: [1503, 1753, 1751, 1750, 1749, 1748, 1747, 1746, 1745, 1744]\n"
     ]
    }
   ],
   "source": [
    "# Mendapatkan kode ICD-10 yang paling umum untuk setiap klaster\n",
    "cluster_codes = []\n",
    "for i in range(k):\n",
    "    cluster_data = data[data[\"Cluster\"] == i]\n",
    "    cluster_codes.append(cluster_data[\"ICD10_Code\"].value_counts().nlargest(10).index.tolist())\n",
    "\n",
    "# Mencetak kode ICD-10 yang paling umum untuk setiap klaster\n",
    "for i, codes in enumerate(cluster_codes):\n",
    "    print(f\"Klaster {i + 1} kode ICD-10 yang paling umum:\", codes)\n"
   ]
  },
  {
   "cell_type": "markdown",
   "id": "a26e961b",
   "metadata": {},
   "source": [
    "Berdasarkan output analisis klaster, dapat disimpulkan bahwa kumpulan data pasien tersebut dapat dikelompokkan menjadi lima klaster, yaitu:\n",
    "\n",
    "- Klaster 1: Penyakit mental dan perilaku\n",
    "- Klaster 2: Penyakit sistem endokrin, nutrisi, dan metabolisme\n",
    "- Klaster 3: Penyakit sistem muskuloskeletal dan jaringan ikat\n",
    "- Klaster 4: Penyakit sistem pernapasan\n",
    "- Klaster 5: Penyakit sistem pencernaan"
   ]
  },
  {
   "cell_type": "code",
   "execution_count": null,
   "id": "c111b83f",
   "metadata": {},
   "outputs": [],
   "source": []
  }
 ],
 "metadata": {
  "kernelspec": {
   "display_name": "Python 3 (ipykernel)",
   "language": "python",
   "name": "python3"
  },
  "language_info": {
   "codemirror_mode": {
    "name": "ipython",
    "version": 3
   },
   "file_extension": ".py",
   "mimetype": "text/x-python",
   "name": "python",
   "nbconvert_exporter": "python",
   "pygments_lexer": "ipython3",
   "version": "3.9.12"
  }
 },
 "nbformat": 4,
 "nbformat_minor": 5
}
