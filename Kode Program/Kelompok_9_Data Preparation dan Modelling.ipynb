{
 "cells": [
  {
   "cell_type": "code",
   "execution_count": 19,
   "id": "391c3381",
   "metadata": {},
   "outputs": [],
   "source": [
    "import pandas as pd\n",
    "import numpy as np\n",
    "import matplotlib.pyplot as plt\n",
    "from sklearn.cluster import KMeans\n",
    "from sklearn.metrics import silhouette_score"
   ]
  },
  {
   "cell_type": "code",
   "execution_count": 3,
   "id": "e56f3771",
   "metadata": {
    "scrolled": true
   },
   "outputs": [
    {
     "name": "stdout",
     "output_type": "stream",
     "text": [
      "         PSTV01     PSTV02     PSTV15             PNK02      PNK03      PNK04  \\\n",
      "0      88204825   88204825   6.755007  203960321P000052 2021-03-13 2021-03-16   \n",
      "1      24034617   72462276  12.832207  185630321P001651 2021-03-28 2021-03-28   \n",
      "2      17391573  417758463  13.106908   46631021P000693 2021-10-11 2021-10-14   \n",
      "3      60560444   60560444  12.762736  325900321P000146 2021-03-17 2021-03-21   \n",
      "4     291346266  291346266  13.404066  460570621P000056 2021-06-13 2021-06-16   \n",
      "...         ...        ...        ...               ...        ...        ...   \n",
      "1697   59343053   59343053  11.434834  588090321P000034 2021-03-28 2021-03-28   \n",
      "1698   38863777   90173658  12.978864  602620221P000038 2021-02-08 2021-02-08   \n",
      "1699   38863777   90173658  12.978864  602620221P000014 2021-02-03 2021-02-03   \n",
      "1700    6171431    6171431   2.498639   12751121P000329 2021-11-26 2021-11-26   \n",
      "1701   72945328   72945328   5.127367  334741021P000920 2021-10-21 2021-10-21   \n",
      "\n",
      "          PNK05                PNK06         PNK07                      PNK08  \\\n",
      "0    2021-03-16  NUSA TENGGARA BARAT  LOMBOK TIMUR                     SWASTA   \n",
      "1    2021-03-30     SULAWESI SELATAN          LUWU  PEMERINTAH KABUPATEN/KOTA   \n",
      "2    2021-10-14           JAWA BARAT       BANDUNG  PEMERINTAH KABUPATEN/KOTA   \n",
      "3    2021-03-21          JAWA TENGAH        SRAGEN                     SWASTA   \n",
      "4    2021-06-16                 ACEH    ACEH UTARA                     SWASTA   \n",
      "...         ...                  ...           ...                        ...   \n",
      "1697 2021-03-28           JAWA BARAT       BANDUNG                     SWASTA   \n",
      "1698 2021-02-08          JAWA TENGAH      WONOSOBO                     SWASTA   \n",
      "1699 2021-02-03          JAWA TENGAH      WONOSOBO                     SWASTA   \n",
      "1700 2021-11-26    SULAWESI TENGGARA         BUTON  PEMERINTAH KABUPATEN/KOTA   \n",
      "1701 2021-10-21           JAWA TIMUR        KEDIRI  PEMERINTAH KABUPATEN/KOTA   \n",
      "\n",
      "      ...     PNK12                                              PNK13 PNK13A  \\\n",
      "0     ...  PBI APBN                 A01 Typhoid and paratyphoid fevers    A01   \n",
      "1     ...  PBI APBN                 A01 Typhoid and paratyphoid fevers    A01   \n",
      "2     ...  PBI APBN                 A01 Typhoid and paratyphoid fevers    A01   \n",
      "3     ...  PBI APBN  A09 Other gastroenteritis and colitis of infec...    A09   \n",
      "4     ...       PPU  A09 Other gastroenteritis and colitis of infec...    A09   \n",
      "...   ...       ...                                                ...    ...   \n",
      "1697  ...  PBI APBN                Z39 Postpartum care and examination    Z39   \n",
      "1698  ...  PBI APBN                Z39 Postpartum care and examination    Z39   \n",
      "1699  ...  PBI APBN                Z39 Postpartum care and examination    Z39   \n",
      "1700  ...  PBI APBN          Z96 Presence of other functional implants    Z96   \n",
      "1701  ...  PBI APBN          Z96 Presence of other functional implants    Z96   \n",
      "\n",
      "     PNK14                                              PNK15  \\\n",
      "0     A010                                      Typhoid fever   \n",
      "1     A010                                      Typhoid fever   \n",
      "2     A010                                      Typhoid fever   \n",
      "3      A09  Diarrhoea and gastroenteritis of presumed infe...   \n",
      "4      A09  Diarrhoea and gastroenteritis of presumed infe...   \n",
      "...    ...                                                ...   \n",
      "1697   Z39                    Postpartum care and examination   \n",
      "1698  Z392                       Routine postpartum follow-up   \n",
      "1699  Z392                       Routine postpartum follow-up   \n",
      "1700  Z965     Presence of tooth-root and mandibular implants   \n",
      "1701  Z968    Presence of other specified functional implants   \n",
      "\n",
      "                                        PNK16   PNK17   PNK18 PNK19  PNK20  \n",
      "0            Rawat Inap di R. Perawatan Biasa  540000  540000   0.0    NaN  \n",
      "1            Rawat Inap di R. Perawatan Biasa  240000  240000   0.0    NaN  \n",
      "2            Rawat Inap di R. Perawatan Biasa  600000  600000   0.0    NaN  \n",
      "3            Rawat Inap di R. Perawatan Biasa  640000  640000   0.0    NaN  \n",
      "4            Rawat Inap di R. Perawatan Biasa  525000  525000   0.0    NaN  \n",
      "...                                       ...     ...     ...   ...    ...  \n",
      "1697                   Pelayanan PNC 1 (Satu)   25000   25000   NaN    NaN  \n",
      "1698                   Pelayanan PNC 3 (Tiga)   25000   25000   NaN    NaN  \n",
      "1699                    Pelayanan PNC 2 (Dua)   25000   25000   NaN    NaN  \n",
      "1700  Pelayanan KB : Pemasangan IUD / Implant  100000  100000   NaN    NaN  \n",
      "1701       Pelayanan KB : Cabut IUD / Implant  100000  100000   NaN    NaN  \n",
      "\n",
      "[1702 rows x 23 columns]\n"
     ]
    }
   ],
   "source": [
    "# Membaca file dta\n",
    "df = pd.read_stata(\"DM2021_fktpnonkapitasi.dta\")\n",
    "\n",
    "# Menampilkan data\n",
    "print(df)\n"
   ]
  },
  {
   "cell_type": "markdown",
   "id": "276f1663",
   "metadata": {},
   "source": [
    "## Data Cleaning"
   ]
  },
  {
   "cell_type": "code",
   "execution_count": 11,
   "id": "3fb0cfca",
   "metadata": {},
   "outputs": [],
   "source": [
    "# Menghilangkan Baris Duplikat\n",
    "df.drop_duplicates(inplace=True)"
   ]
  },
  {
   "cell_type": "code",
   "execution_count": 12,
   "id": "8f7ecef7",
   "metadata": {},
   "outputs": [],
   "source": [
    "df = df.dropna(axis=0)"
   ]
  },
  {
   "cell_type": "code",
   "execution_count": 13,
   "id": "926b5949",
   "metadata": {},
   "outputs": [
    {
     "name": "stdout",
     "output_type": "stream",
     "text": [
      "        PSTV01    PSTV02     PSTV15             PNK02      PNK03      PNK04  \\\n",
      "5     81015840  81015840   6.769341  422320721P000720 2021-07-10 2021-07-10   \n",
      "7     29370125  29370125  12.620406  340880321P002999 2021-03-25 2021-03-25   \n",
      "8      7662814   7662814  12.128812  222771121P000527 2021-11-21 2021-11-21   \n",
      "9     53019648  53019648  14.044061   75110521P000245 2021-05-19 2021-05-19   \n",
      "10    49961851  78498608  13.067945  136460221P000198 2021-02-04 2021-02-04   \n",
      "...        ...       ...        ...               ...        ...        ...   \n",
      "1512  78166735   8635688  13.592475  409960821P000510 2021-08-30 2021-08-30   \n",
      "1513  78166735   8635688  13.592475  409960721P000448 2021-07-31 2021-07-31   \n",
      "1514  78166735   8635688  13.592475  409960321P000515 2021-03-25 2021-03-25   \n",
      "1515  95310614  76869583  10.193729   31980821P005040 2021-08-19 2021-08-19   \n",
      "1670  64617487  64617487   7.285743  334551221P000487 2021-12-13 2021-12-13   \n",
      "\n",
      "          PNK05           PNK06            PNK07                      PNK08  \\\n",
      "5    2021-07-10            ACEH  ACEH BARAT DAYA  PEMERINTAH KABUPATEN/KOTA   \n",
      "7    2021-03-25            ACEH       ACEH UTARA  PEMERINTAH KABUPATEN/KOTA   \n",
      "8    2021-11-21  SULAWESI BARAT  POLEWALI MANDAR  PEMERINTAH KABUPATEN/KOTA   \n",
      "9    2021-05-19      JAWA BARAT     KOTA BANDUNG                     SWASTA   \n",
      "10   2021-02-04      JAWA TIMUR           JEMBER                     SWASTA   \n",
      "...         ...             ...              ...                        ...   \n",
      "1512 2021-08-30      JAWA TIMUR          PACITAN  PEMERINTAH KABUPATEN/KOTA   \n",
      "1513 2021-07-31      JAWA TIMUR          PACITAN  PEMERINTAH KABUPATEN/KOTA   \n",
      "1514 2021-03-25      JAWA TIMUR          PACITAN  PEMERINTAH KABUPATEN/KOTA   \n",
      "1515 2021-08-19      JAWA TIMUR      KOTA MALANG                     SWASTA   \n",
      "1670 2021-12-13      JAWA TIMUR           KEDIRI  PEMERINTAH KABUPATEN/KOTA   \n",
      "\n",
      "      ...          PNK12                                              PNK13  \\\n",
      "5     ...       PBI APBD  A09 Other gastroenteritis and colitis of infec...   \n",
      "7     ...            PPU                                   A75 Typhus fever   \n",
      "8     ...       PBI APBN                    B17 Other acute viral hepatitis   \n",
      "9     ...  BUKAN PEKERJA                       E10 Type 1 diabetes mellitus   \n",
      "10    ...            PPU                       E10 Type 1 diabetes mellitus   \n",
      "...   ...            ...                                                ...   \n",
      "1512  ...       PBI APBN  Z00 General examination and investigation of p...   \n",
      "1513  ...       PBI APBN  Z00 General examination and investigation of p...   \n",
      "1514  ...       PBI APBN  Z00 General examination and investigation of p...   \n",
      "1515  ...  BUKAN PEKERJA  Z00 General examination and investigation of p...   \n",
      "1670  ...       PBI APBN             Z35 Supervision of high-risk pregnancy   \n",
      "\n",
      "     PNK13A PNK14                                              PNK15  \\\n",
      "5       A09   A09  Diarrhoea and gastroenteritis of presumed infe...   \n",
      "7       A75  A752               Typhus fever due to Rickettsia typhi   \n",
      "8       B17  B179                 Acute viral hepatitis, unspecified   \n",
      "9       E10  E109  Insulin-dependent diabetes mellitus without co...   \n",
      "10      E10  E109  Insulin-dependent diabetes mellitus without co...   \n",
      "...     ...   ...                                                ...   \n",
      "1512    Z00   Z00  General examination and investigation of perso...   \n",
      "1513    Z00   Z00  General examination and investigation of perso...   \n",
      "1514    Z00   Z00  General examination and investigation of perso...   \n",
      "1515    Z00   Z00  General examination and investigation of perso...   \n",
      "1670    Z35  Z359    Supervision of high-risk pregnancy, unspecified   \n",
      "\n",
      "                                      PNK16   PNK17   PNK18    PNK19  PNK20  \n",
      "5           Evakuasi medis / Ambulans Darat  102000  102000     0.00    0.0  \n",
      "7           Evakuasi medis / Ambulans Darat  204000  204000     0.00    0.0  \n",
      "8           Evakuasi medis / Ambulans Darat  100000  100000     0.00    0.0  \n",
      "9                                 Kreatinin   30000   30000     1.45    0.0  \n",
      "10                         Microalbuminaria  120000  120000  4032.00    0.0  \n",
      "...                                     ...     ...     ...      ...    ...  \n",
      "1512  Gula Darah Puasa (GDP) - PRB/Prolanis   10000   10000    98.00    0.0  \n",
      "1513  Gula Darah Puasa (GDP) - PRB/Prolanis   10000   10000    98.00    0.0  \n",
      "1514  Gula Darah Puasa (GDP) - PRB/Prolanis   10000   10000    98.00    0.0  \n",
      "1515  Gula Darah Puasa (GDP) - PRB/Prolanis   17500   17500   129.00    0.0  \n",
      "1670        Evakuasi medis / Ambulans Darat  110000  110000     0.00    0.0  \n",
      "\n",
      "[1368 rows x 23 columns]\n"
     ]
    }
   ],
   "source": [
    "print(df)"
   ]
  },
  {
   "cell_type": "code",
   "execution_count": 14,
   "id": "49ab756c",
   "metadata": {},
   "outputs": [
    {
     "data": {
      "text/html": [
       "<div>\n",
       "<style scoped>\n",
       "    .dataframe tbody tr th:only-of-type {\n",
       "        vertical-align: middle;\n",
       "    }\n",
       "\n",
       "    .dataframe tbody tr th {\n",
       "        vertical-align: top;\n",
       "    }\n",
       "\n",
       "    .dataframe thead th {\n",
       "        text-align: right;\n",
       "    }\n",
       "</style>\n",
       "<table border=\"1\" class=\"dataframe\">\n",
       "  <thead>\n",
       "    <tr style=\"text-align: right;\">\n",
       "      <th></th>\n",
       "      <th>PSTV01</th>\n",
       "      <th>PSTV02</th>\n",
       "      <th>PSTV15</th>\n",
       "      <th>PNK02</th>\n",
       "      <th>PNK03</th>\n",
       "      <th>PNK04</th>\n",
       "      <th>PNK05</th>\n",
       "      <th>PNK06</th>\n",
       "      <th>PNK07</th>\n",
       "      <th>PNK08</th>\n",
       "      <th>...</th>\n",
       "      <th>PNK12</th>\n",
       "      <th>PNK13</th>\n",
       "      <th>PNK13A</th>\n",
       "      <th>PNK14</th>\n",
       "      <th>PNK15</th>\n",
       "      <th>PNK16</th>\n",
       "      <th>PNK17</th>\n",
       "      <th>PNK18</th>\n",
       "      <th>PNK19</th>\n",
       "      <th>PNK20</th>\n",
       "    </tr>\n",
       "  </thead>\n",
       "  <tbody>\n",
       "    <tr>\n",
       "      <th>5</th>\n",
       "      <td>81015840</td>\n",
       "      <td>81015840</td>\n",
       "      <td>6.769341</td>\n",
       "      <td>422320721P000720</td>\n",
       "      <td>2021-07-10</td>\n",
       "      <td>2021-07-10</td>\n",
       "      <td>2021-07-10</td>\n",
       "      <td>ACEH</td>\n",
       "      <td>ACEH BARAT DAYA</td>\n",
       "      <td>PEMERINTAH KABUPATEN/KOTA</td>\n",
       "      <td>...</td>\n",
       "      <td>PBI APBD</td>\n",
       "      <td>A09 Other gastroenteritis and colitis of infec...</td>\n",
       "      <td>A09</td>\n",
       "      <td>A09</td>\n",
       "      <td>Diarrhoea and gastroenteritis of presumed infe...</td>\n",
       "      <td>Evakuasi medis / Ambulans Darat</td>\n",
       "      <td>102000</td>\n",
       "      <td>102000</td>\n",
       "      <td>0.00</td>\n",
       "      <td>0.0</td>\n",
       "    </tr>\n",
       "    <tr>\n",
       "      <th>7</th>\n",
       "      <td>29370125</td>\n",
       "      <td>29370125</td>\n",
       "      <td>12.620406</td>\n",
       "      <td>340880321P002999</td>\n",
       "      <td>2021-03-25</td>\n",
       "      <td>2021-03-25</td>\n",
       "      <td>2021-03-25</td>\n",
       "      <td>ACEH</td>\n",
       "      <td>ACEH UTARA</td>\n",
       "      <td>PEMERINTAH KABUPATEN/KOTA</td>\n",
       "      <td>...</td>\n",
       "      <td>PPU</td>\n",
       "      <td>A75 Typhus fever</td>\n",
       "      <td>A75</td>\n",
       "      <td>A752</td>\n",
       "      <td>Typhus fever due to Rickettsia typhi</td>\n",
       "      <td>Evakuasi medis / Ambulans Darat</td>\n",
       "      <td>204000</td>\n",
       "      <td>204000</td>\n",
       "      <td>0.00</td>\n",
       "      <td>0.0</td>\n",
       "    </tr>\n",
       "    <tr>\n",
       "      <th>8</th>\n",
       "      <td>7662814</td>\n",
       "      <td>7662814</td>\n",
       "      <td>12.128812</td>\n",
       "      <td>222771121P000527</td>\n",
       "      <td>2021-11-21</td>\n",
       "      <td>2021-11-21</td>\n",
       "      <td>2021-11-21</td>\n",
       "      <td>SULAWESI BARAT</td>\n",
       "      <td>POLEWALI MANDAR</td>\n",
       "      <td>PEMERINTAH KABUPATEN/KOTA</td>\n",
       "      <td>...</td>\n",
       "      <td>PBI APBN</td>\n",
       "      <td>B17 Other acute viral hepatitis</td>\n",
       "      <td>B17</td>\n",
       "      <td>B179</td>\n",
       "      <td>Acute viral hepatitis, unspecified</td>\n",
       "      <td>Evakuasi medis / Ambulans Darat</td>\n",
       "      <td>100000</td>\n",
       "      <td>100000</td>\n",
       "      <td>0.00</td>\n",
       "      <td>0.0</td>\n",
       "    </tr>\n",
       "    <tr>\n",
       "      <th>9</th>\n",
       "      <td>53019648</td>\n",
       "      <td>53019648</td>\n",
       "      <td>14.044061</td>\n",
       "      <td>75110521P000245</td>\n",
       "      <td>2021-05-19</td>\n",
       "      <td>2021-05-19</td>\n",
       "      <td>2021-05-19</td>\n",
       "      <td>JAWA BARAT</td>\n",
       "      <td>KOTA BANDUNG</td>\n",
       "      <td>SWASTA</td>\n",
       "      <td>...</td>\n",
       "      <td>BUKAN PEKERJA</td>\n",
       "      <td>E10 Type 1 diabetes mellitus</td>\n",
       "      <td>E10</td>\n",
       "      <td>E109</td>\n",
       "      <td>Insulin-dependent diabetes mellitus without co...</td>\n",
       "      <td>Kreatinin</td>\n",
       "      <td>30000</td>\n",
       "      <td>30000</td>\n",
       "      <td>1.45</td>\n",
       "      <td>0.0</td>\n",
       "    </tr>\n",
       "    <tr>\n",
       "      <th>10</th>\n",
       "      <td>49961851</td>\n",
       "      <td>78498608</td>\n",
       "      <td>13.067945</td>\n",
       "      <td>136460221P000198</td>\n",
       "      <td>2021-02-04</td>\n",
       "      <td>2021-02-04</td>\n",
       "      <td>2021-02-04</td>\n",
       "      <td>JAWA TIMUR</td>\n",
       "      <td>JEMBER</td>\n",
       "      <td>SWASTA</td>\n",
       "      <td>...</td>\n",
       "      <td>PPU</td>\n",
       "      <td>E10 Type 1 diabetes mellitus</td>\n",
       "      <td>E10</td>\n",
       "      <td>E109</td>\n",
       "      <td>Insulin-dependent diabetes mellitus without co...</td>\n",
       "      <td>Microalbuminaria</td>\n",
       "      <td>120000</td>\n",
       "      <td>120000</td>\n",
       "      <td>4032.00</td>\n",
       "      <td>0.0</td>\n",
       "    </tr>\n",
       "    <tr>\n",
       "      <th>...</th>\n",
       "      <td>...</td>\n",
       "      <td>...</td>\n",
       "      <td>...</td>\n",
       "      <td>...</td>\n",
       "      <td>...</td>\n",
       "      <td>...</td>\n",
       "      <td>...</td>\n",
       "      <td>...</td>\n",
       "      <td>...</td>\n",
       "      <td>...</td>\n",
       "      <td>...</td>\n",
       "      <td>...</td>\n",
       "      <td>...</td>\n",
       "      <td>...</td>\n",
       "      <td>...</td>\n",
       "      <td>...</td>\n",
       "      <td>...</td>\n",
       "      <td>...</td>\n",
       "      <td>...</td>\n",
       "      <td>...</td>\n",
       "      <td>...</td>\n",
       "    </tr>\n",
       "    <tr>\n",
       "      <th>1512</th>\n",
       "      <td>78166735</td>\n",
       "      <td>8635688</td>\n",
       "      <td>13.592475</td>\n",
       "      <td>409960821P000510</td>\n",
       "      <td>2021-08-30</td>\n",
       "      <td>2021-08-30</td>\n",
       "      <td>2021-08-30</td>\n",
       "      <td>JAWA TIMUR</td>\n",
       "      <td>PACITAN</td>\n",
       "      <td>PEMERINTAH KABUPATEN/KOTA</td>\n",
       "      <td>...</td>\n",
       "      <td>PBI APBN</td>\n",
       "      <td>Z00 General examination and investigation of p...</td>\n",
       "      <td>Z00</td>\n",
       "      <td>Z00</td>\n",
       "      <td>General examination and investigation of perso...</td>\n",
       "      <td>Gula Darah Puasa (GDP) - PRB/Prolanis</td>\n",
       "      <td>10000</td>\n",
       "      <td>10000</td>\n",
       "      <td>98.00</td>\n",
       "      <td>0.0</td>\n",
       "    </tr>\n",
       "    <tr>\n",
       "      <th>1513</th>\n",
       "      <td>78166735</td>\n",
       "      <td>8635688</td>\n",
       "      <td>13.592475</td>\n",
       "      <td>409960721P000448</td>\n",
       "      <td>2021-07-31</td>\n",
       "      <td>2021-07-31</td>\n",
       "      <td>2021-07-31</td>\n",
       "      <td>JAWA TIMUR</td>\n",
       "      <td>PACITAN</td>\n",
       "      <td>PEMERINTAH KABUPATEN/KOTA</td>\n",
       "      <td>...</td>\n",
       "      <td>PBI APBN</td>\n",
       "      <td>Z00 General examination and investigation of p...</td>\n",
       "      <td>Z00</td>\n",
       "      <td>Z00</td>\n",
       "      <td>General examination and investigation of perso...</td>\n",
       "      <td>Gula Darah Puasa (GDP) - PRB/Prolanis</td>\n",
       "      <td>10000</td>\n",
       "      <td>10000</td>\n",
       "      <td>98.00</td>\n",
       "      <td>0.0</td>\n",
       "    </tr>\n",
       "    <tr>\n",
       "      <th>1514</th>\n",
       "      <td>78166735</td>\n",
       "      <td>8635688</td>\n",
       "      <td>13.592475</td>\n",
       "      <td>409960321P000515</td>\n",
       "      <td>2021-03-25</td>\n",
       "      <td>2021-03-25</td>\n",
       "      <td>2021-03-25</td>\n",
       "      <td>JAWA TIMUR</td>\n",
       "      <td>PACITAN</td>\n",
       "      <td>PEMERINTAH KABUPATEN/KOTA</td>\n",
       "      <td>...</td>\n",
       "      <td>PBI APBN</td>\n",
       "      <td>Z00 General examination and investigation of p...</td>\n",
       "      <td>Z00</td>\n",
       "      <td>Z00</td>\n",
       "      <td>General examination and investigation of perso...</td>\n",
       "      <td>Gula Darah Puasa (GDP) - PRB/Prolanis</td>\n",
       "      <td>10000</td>\n",
       "      <td>10000</td>\n",
       "      <td>98.00</td>\n",
       "      <td>0.0</td>\n",
       "    </tr>\n",
       "    <tr>\n",
       "      <th>1515</th>\n",
       "      <td>95310614</td>\n",
       "      <td>76869583</td>\n",
       "      <td>10.193729</td>\n",
       "      <td>31980821P005040</td>\n",
       "      <td>2021-08-19</td>\n",
       "      <td>2021-08-19</td>\n",
       "      <td>2021-08-19</td>\n",
       "      <td>JAWA TIMUR</td>\n",
       "      <td>KOTA MALANG</td>\n",
       "      <td>SWASTA</td>\n",
       "      <td>...</td>\n",
       "      <td>BUKAN PEKERJA</td>\n",
       "      <td>Z00 General examination and investigation of p...</td>\n",
       "      <td>Z00</td>\n",
       "      <td>Z00</td>\n",
       "      <td>General examination and investigation of perso...</td>\n",
       "      <td>Gula Darah Puasa (GDP) - PRB/Prolanis</td>\n",
       "      <td>17500</td>\n",
       "      <td>17500</td>\n",
       "      <td>129.00</td>\n",
       "      <td>0.0</td>\n",
       "    </tr>\n",
       "    <tr>\n",
       "      <th>1670</th>\n",
       "      <td>64617487</td>\n",
       "      <td>64617487</td>\n",
       "      <td>7.285743</td>\n",
       "      <td>334551221P000487</td>\n",
       "      <td>2021-12-13</td>\n",
       "      <td>2021-12-13</td>\n",
       "      <td>2021-12-13</td>\n",
       "      <td>JAWA TIMUR</td>\n",
       "      <td>KEDIRI</td>\n",
       "      <td>PEMERINTAH KABUPATEN/KOTA</td>\n",
       "      <td>...</td>\n",
       "      <td>PBI APBN</td>\n",
       "      <td>Z35 Supervision of high-risk pregnancy</td>\n",
       "      <td>Z35</td>\n",
       "      <td>Z359</td>\n",
       "      <td>Supervision of high-risk pregnancy, unspecified</td>\n",
       "      <td>Evakuasi medis / Ambulans Darat</td>\n",
       "      <td>110000</td>\n",
       "      <td>110000</td>\n",
       "      <td>0.00</td>\n",
       "      <td>0.0</td>\n",
       "    </tr>\n",
       "  </tbody>\n",
       "</table>\n",
       "<p>1368 rows × 23 columns</p>\n",
       "</div>"
      ],
      "text/plain": [
       "        PSTV01    PSTV02     PSTV15             PNK02      PNK03      PNK04  \\\n",
       "5     81015840  81015840   6.769341  422320721P000720 2021-07-10 2021-07-10   \n",
       "7     29370125  29370125  12.620406  340880321P002999 2021-03-25 2021-03-25   \n",
       "8      7662814   7662814  12.128812  222771121P000527 2021-11-21 2021-11-21   \n",
       "9     53019648  53019648  14.044061   75110521P000245 2021-05-19 2021-05-19   \n",
       "10    49961851  78498608  13.067945  136460221P000198 2021-02-04 2021-02-04   \n",
       "...        ...       ...        ...               ...        ...        ...   \n",
       "1512  78166735   8635688  13.592475  409960821P000510 2021-08-30 2021-08-30   \n",
       "1513  78166735   8635688  13.592475  409960721P000448 2021-07-31 2021-07-31   \n",
       "1514  78166735   8635688  13.592475  409960321P000515 2021-03-25 2021-03-25   \n",
       "1515  95310614  76869583  10.193729   31980821P005040 2021-08-19 2021-08-19   \n",
       "1670  64617487  64617487   7.285743  334551221P000487 2021-12-13 2021-12-13   \n",
       "\n",
       "          PNK05           PNK06            PNK07                      PNK08  \\\n",
       "5    2021-07-10            ACEH  ACEH BARAT DAYA  PEMERINTAH KABUPATEN/KOTA   \n",
       "7    2021-03-25            ACEH       ACEH UTARA  PEMERINTAH KABUPATEN/KOTA   \n",
       "8    2021-11-21  SULAWESI BARAT  POLEWALI MANDAR  PEMERINTAH KABUPATEN/KOTA   \n",
       "9    2021-05-19      JAWA BARAT     KOTA BANDUNG                     SWASTA   \n",
       "10   2021-02-04      JAWA TIMUR           JEMBER                     SWASTA   \n",
       "...         ...             ...              ...                        ...   \n",
       "1512 2021-08-30      JAWA TIMUR          PACITAN  PEMERINTAH KABUPATEN/KOTA   \n",
       "1513 2021-07-31      JAWA TIMUR          PACITAN  PEMERINTAH KABUPATEN/KOTA   \n",
       "1514 2021-03-25      JAWA TIMUR          PACITAN  PEMERINTAH KABUPATEN/KOTA   \n",
       "1515 2021-08-19      JAWA TIMUR      KOTA MALANG                     SWASTA   \n",
       "1670 2021-12-13      JAWA TIMUR           KEDIRI  PEMERINTAH KABUPATEN/KOTA   \n",
       "\n",
       "      ...          PNK12                                              PNK13  \\\n",
       "5     ...       PBI APBD  A09 Other gastroenteritis and colitis of infec...   \n",
       "7     ...            PPU                                   A75 Typhus fever   \n",
       "8     ...       PBI APBN                    B17 Other acute viral hepatitis   \n",
       "9     ...  BUKAN PEKERJA                       E10 Type 1 diabetes mellitus   \n",
       "10    ...            PPU                       E10 Type 1 diabetes mellitus   \n",
       "...   ...            ...                                                ...   \n",
       "1512  ...       PBI APBN  Z00 General examination and investigation of p...   \n",
       "1513  ...       PBI APBN  Z00 General examination and investigation of p...   \n",
       "1514  ...       PBI APBN  Z00 General examination and investigation of p...   \n",
       "1515  ...  BUKAN PEKERJA  Z00 General examination and investigation of p...   \n",
       "1670  ...       PBI APBN             Z35 Supervision of high-risk pregnancy   \n",
       "\n",
       "     PNK13A PNK14                                              PNK15  \\\n",
       "5       A09   A09  Diarrhoea and gastroenteritis of presumed infe...   \n",
       "7       A75  A752               Typhus fever due to Rickettsia typhi   \n",
       "8       B17  B179                 Acute viral hepatitis, unspecified   \n",
       "9       E10  E109  Insulin-dependent diabetes mellitus without co...   \n",
       "10      E10  E109  Insulin-dependent diabetes mellitus without co...   \n",
       "...     ...   ...                                                ...   \n",
       "1512    Z00   Z00  General examination and investigation of perso...   \n",
       "1513    Z00   Z00  General examination and investigation of perso...   \n",
       "1514    Z00   Z00  General examination and investigation of perso...   \n",
       "1515    Z00   Z00  General examination and investigation of perso...   \n",
       "1670    Z35  Z359    Supervision of high-risk pregnancy, unspecified   \n",
       "\n",
       "                                      PNK16   PNK17   PNK18    PNK19  PNK20  \n",
       "5           Evakuasi medis / Ambulans Darat  102000  102000     0.00    0.0  \n",
       "7           Evakuasi medis / Ambulans Darat  204000  204000     0.00    0.0  \n",
       "8           Evakuasi medis / Ambulans Darat  100000  100000     0.00    0.0  \n",
       "9                                 Kreatinin   30000   30000     1.45    0.0  \n",
       "10                         Microalbuminaria  120000  120000  4032.00    0.0  \n",
       "...                                     ...     ...     ...      ...    ...  \n",
       "1512  Gula Darah Puasa (GDP) - PRB/Prolanis   10000   10000    98.00    0.0  \n",
       "1513  Gula Darah Puasa (GDP) - PRB/Prolanis   10000   10000    98.00    0.0  \n",
       "1514  Gula Darah Puasa (GDP) - PRB/Prolanis   10000   10000    98.00    0.0  \n",
       "1515  Gula Darah Puasa (GDP) - PRB/Prolanis   17500   17500   129.00    0.0  \n",
       "1670        Evakuasi medis / Ambulans Darat  110000  110000     0.00    0.0  \n",
       "\n",
       "[1368 rows x 23 columns]"
      ]
     },
     "execution_count": 14,
     "metadata": {},
     "output_type": "execute_result"
    }
   ],
   "source": [
    "# Menghapus Baris atau Kolom dengan Nilai yang Hilang\n",
    "df.dropna(axis=0)  # untuk menghapus baris\n",
    "df.dropna(axis=1)  # untuk menghapus kolom"
   ]
  },
  {
   "cell_type": "code",
   "execution_count": 15,
   "id": "3c51c6db",
   "metadata": {},
   "outputs": [
    {
     "name": "stdout",
     "output_type": "stream",
     "text": [
      "Empty DataFrame\n",
      "Columns: [PSTV01, PSTV02, PSTV15, PNK02, PNK03, PNK04, PNK05, PNK06, PNK07, PNK08, PNK09, PNK10, PNK11, PNK12, PNK13, PNK13A, PNK14, PNK15, PNK16, PNK17, PNK18, PNK19, PNK20]\n",
      "Index: []\n",
      "\n",
      "[0 rows x 23 columns]\n"
     ]
    }
   ],
   "source": [
    "# Menyaring data hanya untuk tahun 2021\n",
    "dataframe_2020 = df[df['PNK05'] == 2021]\n",
    "\n",
    "# Menampilkan isi dataframe setelah penyaringan\n",
    "print(dataframe_2020)"
   ]
  },
  {
   "cell_type": "code",
   "execution_count": 16,
   "id": "8e249647",
   "metadata": {},
   "outputs": [
    {
     "name": "stdout",
     "output_type": "stream",
     "text": [
      "        PSTV01    PSTV02     PSTV15             PNK02      PNK03      PNK04  \\\n",
      "5     81015840  81015840   6.769341  422320721P000720 2021-07-10 2021-07-10   \n",
      "7     29370125  29370125  12.620406  340880321P002999 2021-03-25 2021-03-25   \n",
      "8      7662814   7662814  12.128812  222771121P000527 2021-11-21 2021-11-21   \n",
      "9     53019648  53019648  14.044061   75110521P000245 2021-05-19 2021-05-19   \n",
      "10    49961851  78498608  13.067945  136460221P000198 2021-02-04 2021-02-04   \n",
      "...        ...       ...        ...               ...        ...        ...   \n",
      "1512  78166735   8635688  13.592475  409960821P000510 2021-08-30 2021-08-30   \n",
      "1513  78166735   8635688  13.592475  409960721P000448 2021-07-31 2021-07-31   \n",
      "1514  78166735   8635688  13.592475  409960321P000515 2021-03-25 2021-03-25   \n",
      "1515  95310614  76869583  10.193729   31980821P005040 2021-08-19 2021-08-19   \n",
      "1670  64617487  64617487   7.285743  334551221P000487 2021-12-13 2021-12-13   \n",
      "\n",
      "          PNK05           PNK06            PNK07                      PNK08  \\\n",
      "5    2021-07-10            ACEH  ACEH BARAT DAYA  PEMERINTAH KABUPATEN/KOTA   \n",
      "7    2021-03-25            ACEH       ACEH UTARA  PEMERINTAH KABUPATEN/KOTA   \n",
      "8    2021-11-21  SULAWESI BARAT  POLEWALI MANDAR  PEMERINTAH KABUPATEN/KOTA   \n",
      "9    2021-05-19      JAWA BARAT     KOTA BANDUNG                     SWASTA   \n",
      "10   2021-02-04      JAWA TIMUR           JEMBER                     SWASTA   \n",
      "...         ...             ...              ...                        ...   \n",
      "1512 2021-08-30      JAWA TIMUR          PACITAN  PEMERINTAH KABUPATEN/KOTA   \n",
      "1513 2021-07-31      JAWA TIMUR          PACITAN  PEMERINTAH KABUPATEN/KOTA   \n",
      "1514 2021-03-25      JAWA TIMUR          PACITAN  PEMERINTAH KABUPATEN/KOTA   \n",
      "1515 2021-08-19      JAWA TIMUR      KOTA MALANG                     SWASTA   \n",
      "1670 2021-12-13      JAWA TIMUR           KEDIRI  PEMERINTAH KABUPATEN/KOTA   \n",
      "\n",
      "      ...          PNK12                                              PNK13  \\\n",
      "5     ...       PBI APBD  A09 Other gastroenteritis and colitis of infec...   \n",
      "7     ...            PPU                                   A75 Typhus fever   \n",
      "8     ...       PBI APBN                    B17 Other acute viral hepatitis   \n",
      "9     ...  BUKAN PEKERJA                       E10 Type 1 diabetes mellitus   \n",
      "10    ...            PPU                       E10 Type 1 diabetes mellitus   \n",
      "...   ...            ...                                                ...   \n",
      "1512  ...       PBI APBN  Z00 General examination and investigation of p...   \n",
      "1513  ...       PBI APBN  Z00 General examination and investigation of p...   \n",
      "1514  ...       PBI APBN  Z00 General examination and investigation of p...   \n",
      "1515  ...  BUKAN PEKERJA  Z00 General examination and investigation of p...   \n",
      "1670  ...       PBI APBN             Z35 Supervision of high-risk pregnancy   \n",
      "\n",
      "     PNK13A PNK14                                              PNK15  \\\n",
      "5       A09   A09  Diarrhoea and gastroenteritis of presumed infe...   \n",
      "7       A75  A752               Typhus fever due to Rickettsia typhi   \n",
      "8       B17  B179                 Acute viral hepatitis, unspecified   \n",
      "9       E10  E109  Insulin-dependent diabetes mellitus without co...   \n",
      "10      E10  E109  Insulin-dependent diabetes mellitus without co...   \n",
      "...     ...   ...                                                ...   \n",
      "1512    Z00   Z00  General examination and investigation of perso...   \n",
      "1513    Z00   Z00  General examination and investigation of perso...   \n",
      "1514    Z00   Z00  General examination and investigation of perso...   \n",
      "1515    Z00   Z00  General examination and investigation of perso...   \n",
      "1670    Z35  Z359    Supervision of high-risk pregnancy, unspecified   \n",
      "\n",
      "                                      PNK16   PNK17   PNK18    PNK19  PNK20  \n",
      "5           Evakuasi medis / Ambulans Darat  102000  102000     0.00    0.0  \n",
      "7           Evakuasi medis / Ambulans Darat  204000  204000     0.00    0.0  \n",
      "8           Evakuasi medis / Ambulans Darat  100000  100000     0.00    0.0  \n",
      "9                                 Kreatinin   30000   30000     1.45    0.0  \n",
      "10                         Microalbuminaria  120000  120000  4032.00    0.0  \n",
      "...                                     ...     ...     ...      ...    ...  \n",
      "1512  Gula Darah Puasa (GDP) - PRB/Prolanis   10000   10000    98.00    0.0  \n",
      "1513  Gula Darah Puasa (GDP) - PRB/Prolanis   10000   10000    98.00    0.0  \n",
      "1514  Gula Darah Puasa (GDP) - PRB/Prolanis   10000   10000    98.00    0.0  \n",
      "1515  Gula Darah Puasa (GDP) - PRB/Prolanis   17500   17500   129.00    0.0  \n",
      "1670        Evakuasi medis / Ambulans Darat  110000  110000     0.00    0.0  \n",
      "\n",
      "[1368 rows x 23 columns]\n"
     ]
    }
   ],
   "source": [
    "# Menghapus baris dengan tahun 2015 sampai 2019\n",
    "tahun_tidak_ingin = [2015, 2016, 2017, 2018, 2019, 2020]\n",
    "dataframe = df[~df['PNK05'].isin(tahun_tidak_ingin)]\n",
    "\n",
    "# Menampilkan isi dataframe setelah penghapusan\n",
    "print(dataframe)"
   ]
  },
  {
   "cell_type": "code",
   "execution_count": 31,
   "id": "a6f6b9ee",
   "metadata": {},
   "outputs": [
    {
     "name": "stdout",
     "output_type": "stream",
     "text": [
      "        PSTV01    PSTV02     PSTV15             PNK02      PNK03      PNK04  \\\n",
      "5     81015840  81015840   6.769341  422320721P000720 2021-07-10 2021-07-10   \n",
      "7     29370125  29370125  12.620406  340880321P002999 2021-03-25 2021-03-25   \n",
      "8      7662814   7662814  12.128812  222771121P000527 2021-11-21 2021-11-21   \n",
      "9     53019648  53019648  14.044061   75110521P000245 2021-05-19 2021-05-19   \n",
      "10    49961851  78498608  13.067945  136460221P000198 2021-02-04 2021-02-04   \n",
      "...        ...       ...        ...               ...        ...        ...   \n",
      "1512  78166735   8635688  13.592475  409960821P000510 2021-08-30 2021-08-30   \n",
      "1513  78166735   8635688  13.592475  409960721P000448 2021-07-31 2021-07-31   \n",
      "1514  78166735   8635688  13.592475  409960321P000515 2021-03-25 2021-03-25   \n",
      "1515  95310614  76869583  10.193729   31980821P005040 2021-08-19 2021-08-19   \n",
      "1670  64617487  64617487   7.285743  334551221P000487 2021-12-13 2021-12-13   \n",
      "\n",
      "          PNK05           PNK06            PNK07                      PNK08  \\\n",
      "5    2021-07-10            ACEH  ACEH BARAT DAYA  PEMERINTAH KABUPATEN/KOTA   \n",
      "7    2021-03-25            ACEH       ACEH UTARA  PEMERINTAH KABUPATEN/KOTA   \n",
      "8    2021-11-21  SULAWESI BARAT  POLEWALI MANDAR  PEMERINTAH KABUPATEN/KOTA   \n",
      "9    2021-05-19      JAWA BARAT     KOTA BANDUNG                     SWASTA   \n",
      "10   2021-02-04      JAWA TIMUR           JEMBER                     SWASTA   \n",
      "...         ...             ...              ...                        ...   \n",
      "1512 2021-08-30      JAWA TIMUR          PACITAN  PEMERINTAH KABUPATEN/KOTA   \n",
      "1513 2021-07-31      JAWA TIMUR          PACITAN  PEMERINTAH KABUPATEN/KOTA   \n",
      "1514 2021-03-25      JAWA TIMUR          PACITAN  PEMERINTAH KABUPATEN/KOTA   \n",
      "1515 2021-08-19      JAWA TIMUR      KOTA MALANG                     SWASTA   \n",
      "1670 2021-12-13      JAWA TIMUR           KEDIRI  PEMERINTAH KABUPATEN/KOTA   \n",
      "\n",
      "      ...          PNK12                                              PNK13  \\\n",
      "5     ...       PBI APBD  A09 Other gastroenteritis and colitis of infec...   \n",
      "7     ...            PPU                                   A75 Typhus fever   \n",
      "8     ...       PBI APBN                    B17 Other acute viral hepatitis   \n",
      "9     ...  BUKAN PEKERJA                       E10 Type 1 diabetes mellitus   \n",
      "10    ...            PPU                       E10 Type 1 diabetes mellitus   \n",
      "...   ...            ...                                                ...   \n",
      "1512  ...       PBI APBN  Z00 General examination and investigation of p...   \n",
      "1513  ...       PBI APBN  Z00 General examination and investigation of p...   \n",
      "1514  ...       PBI APBN  Z00 General examination and investigation of p...   \n",
      "1515  ...  BUKAN PEKERJA  Z00 General examination and investigation of p...   \n",
      "1670  ...       PBI APBN             Z35 Supervision of high-risk pregnancy   \n",
      "\n",
      "     PNK13A PNK14                                              PNK15  \\\n",
      "5       A09   A09  Diarrhoea and gastroenteritis of presumed infe...   \n",
      "7       A75  A752               Typhus fever due to Rickettsia typhi   \n",
      "8       B17  B179                 Acute viral hepatitis, unspecified   \n",
      "9       E10  E109  Insulin-dependent diabetes mellitus without co...   \n",
      "10      E10  E109  Insulin-dependent diabetes mellitus without co...   \n",
      "...     ...   ...                                                ...   \n",
      "1512    Z00   Z00  General examination and investigation of perso...   \n",
      "1513    Z00   Z00  General examination and investigation of perso...   \n",
      "1514    Z00   Z00  General examination and investigation of perso...   \n",
      "1515    Z00   Z00  General examination and investigation of perso...   \n",
      "1670    Z35  Z359    Supervision of high-risk pregnancy, unspecified   \n",
      "\n",
      "                                      PNK16   PNK17   PNK18    PNK19  PNK20  \n",
      "5           Evakuasi medis / Ambulans Darat  102000  102000     0.00    0.0  \n",
      "7           Evakuasi medis / Ambulans Darat  204000  204000     0.00    0.0  \n",
      "8           Evakuasi medis / Ambulans Darat  100000  100000     0.00    0.0  \n",
      "9                                 Kreatinin   30000   30000     1.45    0.0  \n",
      "10                         Microalbuminaria  120000  120000  4032.00    0.0  \n",
      "...                                     ...     ...     ...      ...    ...  \n",
      "1512  Gula Darah Puasa (GDP) - PRB/Prolanis   10000   10000    98.00    0.0  \n",
      "1513  Gula Darah Puasa (GDP) - PRB/Prolanis   10000   10000    98.00    0.0  \n",
      "1514  Gula Darah Puasa (GDP) - PRB/Prolanis   10000   10000    98.00    0.0  \n",
      "1515  Gula Darah Puasa (GDP) - PRB/Prolanis   17500   17500   129.00    0.0  \n",
      "1670        Evakuasi medis / Ambulans Darat  110000  110000     0.00    0.0  \n",
      "\n",
      "[1368 rows x 23 columns]\n"
     ]
    }
   ],
   "source": [
    "# Mengubah kolom PNK03, PNK04, dan PNK05 menjadi tipe data datetime\n",
    "dataframe['PNK03'] = pd.to_datetime(dataframe['PNK03'], errors='coerce')\n",
    "dataframe['PNK04'] = pd.to_datetime(dataframe['PNK04'], errors='coerce')\n",
    "dataframe['PNK05'] = pd.to_datetime(dataframe['PNK05'], errors='coerce')\n",
    "\n",
    "# Menyaring data hanya untuk tahun 2021\n",
    "dataframe_2021 = dataframe[dataframe['PNK03'].dt.year == 2021]\n",
    "dataframe_2021 = dataframe[dataframe['PNK04'].dt.year == 2021]\n",
    "dataframe_2021 = dataframe[dataframe['PNK05'].dt.year == 2021]\n",
    "\n",
    "# Menampilkan isi dataframe setelah penyaringan\n",
    "print(dataframe_2021)"
   ]
  },
  {
   "cell_type": "code",
   "execution_count": 9,
   "id": "9ddba83f",
   "metadata": {},
   "outputs": [],
   "source": [
    "for column in dataframe_2021.columns:\n",
    "    if dataframe_2021[column].dtype == \"int64\":\n",
    "        dataframe_2021[column] = dataframe_2021[column].astype(str).str.replace(\",\", \"\").str.format(\"{:,}\")\n",
    "dataframe_2021.to_csv(\"DM2021_fktpnonkapitasi.csv\", decimal=\".\")"
   ]
  },
  {
   "cell_type": "markdown",
   "id": "de18185f",
   "metadata": {},
   "source": [
    "## Data Construction"
   ]
  },
  {
   "cell_type": "code",
   "execution_count": 49,
   "id": "8aed49b4",
   "metadata": {},
   "outputs": [],
   "source": [
    "df= df[['PSTV15', 'PNK18']]"
   ]
  },
  {
   "cell_type": "code",
   "execution_count": 50,
   "id": "7918b486",
   "metadata": {},
   "outputs": [
    {
     "data": {
      "text/plain": [
       "821"
      ]
     },
     "execution_count": 50,
     "metadata": {},
     "output_type": "execute_result"
    }
   ],
   "source": [
    "df['PSTV15'].idxmax()"
   ]
  },
  {
   "cell_type": "code",
   "execution_count": 51,
   "id": "7ebc19ff",
   "metadata": {},
   "outputs": [
    {
     "data": {
      "text/plain": [
       "PSTV15       14.071786\n",
       "PNK18     20000.000000\n",
       "Name: 821, dtype: float64"
      ]
     },
     "execution_count": 51,
     "metadata": {},
     "output_type": "execute_result"
    }
   ],
   "source": [
    "df.iloc[814]"
   ]
  },
  {
   "cell_type": "markdown",
   "id": "7f9a2397",
   "metadata": {},
   "source": [
    "## Labelly Data"
   ]
  },
  {
   "cell_type": "code",
   "execution_count": 52,
   "id": "0facf613",
   "metadata": {},
   "outputs": [],
   "source": [
    "X = df[['PSTV15']]\n",
    "y = df['PNK18']\n",
    "m = len(y)"
   ]
  },
  {
   "cell_type": "markdown",
   "id": "a468bd98",
   "metadata": {},
   "source": [
    "## Modelling"
   ]
  },
  {
   "cell_type": "code",
   "execution_count": 32,
   "id": "18455574",
   "metadata": {},
   "outputs": [],
   "source": [
    "# Baca data \n",
    "data = pd.read_csv('DM2021_fktpnonkapitasi.csv')\n",
    "X = data[['PNK18', 'PSTV15']]"
   ]
  },
  {
   "cell_type": "code",
   "execution_count": 33,
   "id": "d5a62c8e",
   "metadata": {},
   "outputs": [
    {
     "data": {
      "image/png": "[encoded data removed]",
      "text/plain": [
       "<Figure size 864x432 with 1 Axes>"
      ]
     },
     "metadata": {
      "needs_background": "light"
     },
     "output_type": "display_data"
    }
   ],
   "source": [
    "#Visualise data points\n",
    "plt.figure(figsize=(12,6))\n",
    "plt.scatter(X['PNK18'], X[\"PSTV15\"])\n",
    "plt.xlabel ('PNK18')\n",
    "plt.ylabel('PSTV15(In Thousands)')\n",
    "plt.show()"
   ]
  },
  {
   "cell_type": "code",
   "execution_count": 34,
   "id": "a0b069f7",
   "metadata": {},
   "outputs": [],
   "source": [
    "# Calculate silhouette scores for a range of k values\n",
    "k_range = range(2, 11)\n",
    "silhouette_scores = []\n",
    "for k in k_range:\n",
    "    kmeans = KMeans(n_clusters=k)\n",
    "    kmeans.fit(data[[\"PNK18\"]])\n",
    "    clusters = kmeans.labels_\n",
    "    silhouette_scores.append(silhouette_score(data[[\"PNK18\"]], clusters))\n"
   ]
  },
  {
   "cell_type": "code",
   "execution_count": 35,
   "id": "0c1a5ac6",
   "metadata": {},
   "outputs": [
    {
     "data": {
      "image/png": "[encoded data removed]",
      "text/plain": [
       "<Figure size 432x288 with 1 Axes>"
      ]
     },
     "metadata": {
      "needs_background": "light"
     },
     "output_type": "display_data"
    }
   ],
   "source": [
    "# Plot the elbow curve\n",
    "plt.plot(k_range, silhouette_scores)\n",
    "plt.xlabel(\"Number of Clusters (k)\")\n",
    "plt.ylabel(\"Silhouette Score\")\n",
    "plt.title(\"Elbow Curve for K-Means Clustering\")\n",
    "plt.show()"
   ]
  },
  {
   "cell_type": "code",
   "execution_count": 36,
   "id": "ab9b787f",
   "metadata": {},
   "outputs": [
    {
     "name": "stdout",
     "output_type": "stream",
     "text": [
      "Klaster 1 PNK18 yang paling umum: [30000, 45000, 20000, 60000, 50000, 10000, 28000, 15000, 40000, 55000]\n",
      "Klaster 2 PNK18 yang paling umum: [120000, 160000, 118000, 156000, 100000, 165000, 91000, 204000, 102000, 249400]\n",
      "Klaster 3 PNK18 yang paling umum: [498000, 585000, 950000, 575000]\n"
     ]
    }
   ],
   "source": [
    "# Choose the optimal number of clusters (k)\n",
    "k = 3\n",
    "\n",
    "# Perform K-Means clustering\n",
    "kmeans = KMeans(n_clusters=k)\n",
    "kmeans.fit(data[[\"PNK18\"]])\n",
    "clusters = kmeans.labels_\n",
    "\n",
    "# Add cluster labels to the data\n",
    "data[\"Cluster\"] = clusters\n",
    "\n",
    "# Mendapatkan kode PNK18 yang paling umum untuk setiap klaster\n",
    "cluster_codes = []\n",
    "for i in range(k):\n",
    "    cluster_data = data[data[\"Cluster\"] == i]\n",
    "    # Gunakan `dropna()` untuk menghilangkan baris yang memiliki value NaN untuk atribut PNK18\n",
    "    cluster_data = cluster_data.dropna(subset=[\"PNK18\"])\n",
    "    cluster_codes.append(cluster_data[\"PNK18\"].value_counts().nlargest(10).index.tolist())\n",
    "\n",
    "# Mencetak kode PNK18 yang paling umum untuk setiap klaster\n",
    "for i, codes in enumerate(cluster_codes):\n",
    "    print(f\"Klaster {i + 1} PNK18 yang paling umum:\", codes)\n"
   ]
  },
  {
   "cell_type": "code",
   "execution_count": 38,
   "id": "b8132a8f",
   "metadata": {},
   "outputs": [
    {
     "name": "stdout",
     "output_type": "stream",
     "text": [
      "Posisi Centroid:\n",
      "[[3.62459964e+04 1.04599777e+01]\n",
      " [1.41754292e+05 1.03154371e+01]\n",
      " [6.52000000e+05 1.18251875e+01]]\n"
     ]
    }
   ],
   "source": [
    "# Menampilkan centroid\n",
    "centroids = kmeans.cluster_centers_\n",
    "print(\"Posisi Centroid:\")\n",
    "print(centroids)"
   ]
  },
  {
   "cell_type": "code",
   "execution_count": 26,
   "id": "96762ad1",
   "metadata": {},
   "outputs": [
    {
     "name": "stdout",
     "output_type": "stream",
     "text": [
      "689110013463.5686\n"
     ]
    }
   ],
   "source": [
    "print(kmeans.inertia_)"
   ]
  },
  {
   "cell_type": "code",
   "execution_count": 46,
   "id": "dbae5441",
   "metadata": {},
   "outputs": [
    {
     "data": {
      "image/png": "[encoded data removed]",
      "text/plain": [
       "<Figure size 432x288 with 1 Axes>"
      ]
     },
     "metadata": {
      "needs_background": "light"
     },
     "output_type": "display_data"
    }
   ],
   "source": [
    "# Latih model KMeans pada data\n",
    "kmeans.fit(features)\n",
    "\n",
    "# Menambahkan label cluster ke data\n",
    "data['Cluster'] = kmeans.labels_\n",
    "\n",
    "# Visualisasi hasil clustering dan centroids\n",
    "plt.scatter(data['PNK18'], data['PSTV15'], c=data['Cluster'], cmap='viridis', alpha=0.5)\n",
    "plt.scatter(kmeans.cluster_centers_[:, 0], kmeans.cluster_centers_[:, 1], marker='*', s=300, c='red', label='Centroids')\n",
    "plt.xlabel('Biaya Verifikasi')\n",
    "plt.ylabel('Bobot')\n",
    "plt.title(f'Hasil Clustering dengan K-Means')\n",
    "plt.legend()\n",
    "plt.show()"
   ]
  },
  {
   "cell_type": "markdown",
   "id": "9b19def1",
   "metadata": {},
   "source": [
    "## Evaluasi "
   ]
  },
  {
   "cell_type": "code",
   "execution_count": 30,
   "id": "877719fe",
   "metadata": {},
   "outputs": [
    {
     "name": "stdout",
     "output_type": "stream",
     "text": [
      "Nilai Silhouette Coefficient: 81.79%\n"
     ]
    }
   ],
   "source": [
    "# Menghitung nilai Silhouette Coefficient\n",
    "silhouette_avg = silhouette_score(features, kmeans.labels_)\n",
    "\n",
    "# Konversi nilai SC ke dalam persen\n",
    "silhouette_avg_percent = silhouette_avg * 100\n",
    "\n",
    "print(f'Nilai Silhouette Coefficient: {silhouette_avg_percent:.2f}%')"
   ]
  },
  {
   "cell_type": "markdown",
   "id": "2371b75f",
   "metadata": {},
   "source": [
    "## Deployment"
   ]
  },
  {
   "cell_type": "code",
   "execution_count": 48,
   "id": "557bd3d9",
   "metadata": {},
   "outputs": [],
   "source": [
    "# Simpan model KMeans dan nilai Silhouette Coefficient ke dalam file\n",
    "with open('kmeans_model.pkl', 'wb') as model_file:\n",
    "    pickle.dump(kmeans, model_file)\n",
    "\n",
    "with open('silhouette_coefficient.pkl', 'wb') as coef_file:\n",
    "    pickle.dump(silhouette_avg_percent, coef_file)"
   ]
  }
 ],
 "metadata": {
  "kernelspec": {
   "display_name": "Python 3 (ipykernel)",
   "language": "python",
   "name": "python3"
  },
  "language_info": {
   "codemirror_mode": {
    "name": "ipython",
    "version": 3
   },
   "file_extension": ".py",
   "mimetype": "text/x-python",
   "name": "python",
   "nbconvert_exporter": "python",
   "pygments_lexer": "ipython3",
   "version": "3.9.12"
  }
 },
 "nbformat": 4,
 "nbformat_minor": 5
}
